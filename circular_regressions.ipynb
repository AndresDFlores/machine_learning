{
 "cells": [
  {
   "cell_type": "markdown",
   "id": "f8a63e34",
   "metadata": {},
   "source": [
    "Regressions are a supervised model that predicts numbers based on infinitely many known inputs and outputs.  Regressions use the known inputs and outputs to identify variable coefficients for the function that will define the predictive model.\n",
    "\n",
    "Regressions use the following equation:  Ax=B, where:\n",
    "\n",
    "    A:  Design Matrix [n x m]\n",
    "    x:  Coefficient Vector [m x 1]\n",
    "    B:  Prediction Vector [n x 1]\n",
    "\n",
    "\n",
    "Regression Model Terminology:\n",
    "\n",
    "    1. Training Set: Data used to train a model\n",
    "\n",
    "        f = model\n",
    "\n",
    "        x = input variable, aka feature\n",
    "\n",
    "        y = output variabnle, aka target\n",
    "\n",
    "            (x, y) = single training example\n",
    "\n",
    "            (x^i, y^i) = i-th training example (a specific data row in the data set) - NOT an exponent!"
   ]
  },
  {
   "cell_type": "code",
   "execution_count": 60,
   "id": "24e40e1a",
   "metadata": {},
   "outputs": [],
   "source": [
    "import numpy as np\n",
    "import matplotlib.pyplot as plt"
   ]
  },
  {
   "cell_type": "code",
   "execution_count": 61,
   "id": "9614f2af",
   "metadata": {},
   "outputs": [],
   "source": [
    "def get_circle_regression_matrices(x, y):\n",
    "\n",
    "    #  Design Matrix\n",
    "    A = []\n",
    "    for idx, val in enumerate(x):\n",
    "        x_ = -2*x[idx]\n",
    "        y_ = -2*y[idx]\n",
    "\n",
    "        row = [x_, y_, 1]\n",
    "        A.append(row)\n",
    "\n",
    "    #  Response Vector\n",
    "    B = []\n",
    "    for idx, val in enumerate(y):\n",
    "        row = [(-x[idx]**2)-(y[idx]**2)]\n",
    "        B.append(row)\n",
    "\n",
    "    return A, B"
   ]
  },
  {
   "cell_type": "markdown",
   "id": "42c12e5c",
   "metadata": {},
   "source": [
    "Matrix A defines the design matrix.  \n",
    "\n",
    "Matrix B defines the prediction matrix\n",
    "\n",
    "Vector x is the coefficient vector and can be solved for:\n",
    "\n",
    "    Ax = B\n",
    "\n",
    "    A^T*Ax = A^T*B\n",
    "\n",
    "    (A^TA)^-1*(A^T*Ax) = (A^TA)^-1*(A^T*B)\n",
    "\n",
    "    x = (A^TA)^-1*(A^T*B)"
   ]
  },
  {
   "cell_type": "code",
   "execution_count": 62,
   "id": "5aa9d4de",
   "metadata": {},
   "outputs": [],
   "source": [
    "def get_coefficient_vector(A, B):\n",
    "\n",
    "    A_t = np.transpose(A)\n",
    "    A_tA =A_t@A\n",
    "    A_tB = A_t@B\n",
    "\n",
    "    coeff_vector = np.linalg.inv(A_tA)@A_tB\n",
    "\n",
    "    return coeff_vector"
   ]
  },
  {
   "cell_type": "code",
   "execution_count": 63,
   "id": "b16f838f",
   "metadata": {},
   "outputs": [],
   "source": [
    "def get_prediction_vector(coeff_vector):\n",
    "\n",
    "    x0 = coeff_vector[0]\n",
    "    y0 = coeff_vector[1]\n",
    "    b = coeff_vector[-1]\n",
    "\n",
    "\n",
    "    rfit = np.sqrt(x0**2+y0**2-b)\n",
    "    angle_ = np.linspace(0, 2 * np.pi, 360)\n",
    "\n",
    "\n",
    "    xfit=[]\n",
    "    yfit=[]\n",
    "    for idx, theta in enumerate(angle_):\n",
    "        x_= rfit * np.cos(theta)+x0\n",
    "        y_=rfit * np.sin(theta)+y0\n",
    "\n",
    "        xfit.append(x_)\n",
    "        yfit.append(y_)\n",
    "\n",
    "\n",
    "    return xfit, yfit"
   ]
  },
  {
   "cell_type": "code",
   "execution_count": 64,
   "id": "8dab898d",
   "metadata": {},
   "outputs": [],
   "source": [
    "def plot_regression(x, y, xfit, yfit):\n",
    "    \n",
    "    plt.axis('equal')\n",
    "    plt.scatter(x, y, c='purple')\n",
    "    plt.plot(xfit, yfit, 'r')\n",
    "    plt.grid(True)\n",
    "\n",
    "\n",
    "    plt.show()"
   ]
  },
  {
   "cell_type": "code",
   "execution_count": 65,
   "id": "0b25e6ca",
   "metadata": {},
   "outputs": [],
   "source": [
    "def main(x, y):\n",
    "    A, B = get_circle_regression_matrices(x, y)\n",
    "    coeff_vector = get_coefficient_vector(A, B)\n",
    "    xfit, yfit = get_prediction_vector(coeff_vector)\n",
    "    plot_regression(x, y, xfit, yfit)"
   ]
  },
  {
   "cell_type": "markdown",
   "id": "b606d3d4",
   "metadata": {},
   "source": [
    "Generate random data to run regression"
   ]
  },
  {
   "cell_type": "code",
   "execution_count": 66,
   "id": "493ce951",
   "metadata": {},
   "outputs": [],
   "source": [
    "center_x = 0\n",
    "center_y = 0\n",
    "min_radius = 75 #75\n",
    "max_radius = 100  #100\n",
    "num_points = 50  #50\n",
    "\n",
    "r = np.random.uniform(min_radius, max_radius, num_points)\n",
    "angle = np.random.uniform(0, 2 * np.pi, num_points)\n",
    "\n",
    "x = []\n",
    "y = []\n",
    "for idx, theta in enumerate(angle):\n",
    "\n",
    "    x_val = int(r[idx] * np.cos(theta) + center_x)\n",
    "    y_val = int(r[idx] * np.sin(theta) + center_y)\n",
    "\n",
    "    x.append(x_val)\n",
    "    y.append(y_val)"
   ]
  },
  {
   "cell_type": "code",
   "execution_count": 67,
   "id": "09887b0b",
   "metadata": {},
   "outputs": [
    {
     "data": {
      "image/png": "[encoded data removed]",
      "text/plain": [
       "<Figure size 640x480 with 1 Axes>"
      ]
     },
     "metadata": {},
     "output_type": "display_data"
    }
   ],
   "source": [
    "main(x, y)"
   ]
  }
 ],
 "metadata": {
  "kernelspec": {
   "display_name": "venv",
   "language": "python",
   "name": "python3"
  },
  "language_info": {
   "codemirror_mode": {
    "name": "ipython",
    "version": 3
   },
   "file_extension": ".py",
   "mimetype": "text/x-python",
   "name": "python",
   "nbconvert_exporter": "python",
   "pygments_lexer": "ipython3",
   "version": "3.12.9"
  }
 },
 "nbformat": 4,
 "nbformat_minor": 5
}
